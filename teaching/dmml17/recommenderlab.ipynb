{
 "cells": [
  {
   "cell_type": "markdown",
   "metadata": {},
   "source": [
    "### Example: MovieLens dataset\n",
    "\n",
    "We will use R package [recommenderlab](https://cran.r-project.org/web/packages/recommenderlab/index.html) <cite data-cite=\"recommenderlab\"></cite> and __100k-MovieLense__ dataset. The data was collected through the MovieLens web site\n",
    "(movielens.umn.edu) during Sept 1997 - Apr 1998. The data set contains ~100k ratings (1-5) from 943 users on 1664 movies. Each user has rated at least 19 movies. Note that the ratings matrix is stored with users corresponding to rows and movies corresponding to columns (different from what we had in the lectures)."
   ]
  },
  {
   "cell_type": "code",
   "execution_count": 2,
   "metadata": {},
   "outputs": [
    {
     "data": {
      "text/plain": [
       "943 x 1664 rating matrix of class ‘realRatingMatrix’ with 99392 ratings."
      ]
     },
     "metadata": {},
     "output_type": "display_data"
    }
   ],
   "source": [
    "library(recommenderlab)\n",
    "data(MovieLense)\n",
    "MovieLense\n",
    "nusers=dim(MovieLense)[1]\n",
    "nmovies=dim(MovieLense)[2]"
   ]
  },
  {
   "cell_type": "code",
   "execution_count": 3,
   "metadata": {},
   "outputs": [
    {
     "data": {
      "text/plain": [
       "   Min. 1st Qu.  Median    Mean 3rd Qu.    Max. \n",
       "   19.0    32.0    64.0   105.4   147.5   735.0 "
      ]
     },
     "metadata": {},
     "output_type": "display_data"
    }
   ],
   "source": [
    "#check how many movies have the users rated\n",
    "summary(rowCounts(MovieLense))"
   ]
  },
  {
   "cell_type": "code",
   "execution_count": 4,
   "metadata": {},
   "outputs": [
    {
     "data": {
      "text/html": [
       "<table>\n",
       "<thead><tr><th scope=col>title</th><th scope=col>year</th><th scope=col>url</th><th scope=col>unknown</th><th scope=col>Action</th><th scope=col>Adventure</th><th scope=col>Animation</th><th scope=col>Children's</th><th scope=col>Comedy</th><th scope=col>Crime</th></tr></thead>\n",
       "<tbody>\n",
       "\t<tr><td>Toy Story (1995)                                      </td><td>1995                                                  </td><td>http://us.imdb.com/M/title-exact?Toy%20Story%20(1995) </td><td>0                                                     </td><td>0                                                     </td><td>0                                                     </td><td>1                                                     </td><td>1                                                     </td><td>1                                                     </td><td>0                                                     </td></tr>\n",
       "\t<tr><td>GoldenEye (1995)                                      </td><td>1995                                                  </td><td>http://us.imdb.com/M/title-exact?GoldenEye%20(1995)   </td><td>0                                                     </td><td>1                                                     </td><td>1                                                     </td><td>0                                                     </td><td>0                                                     </td><td>0                                                     </td><td>0                                                     </td></tr>\n",
       "\t<tr><td>Four Rooms (1995)                                     </td><td>1995                                                  </td><td>http://us.imdb.com/M/title-exact?Four%20Rooms%20(1995)</td><td>0                                                     </td><td>0                                                     </td><td>0                                                     </td><td>0                                                     </td><td>0                                                     </td><td>0                                                     </td><td>0                                                     </td></tr>\n",
       "\t<tr><td>Get Shorty (1995)                                     </td><td>1995                                                  </td><td>http://us.imdb.com/M/title-exact?Get%20Shorty%20(1995)</td><td>0                                                     </td><td>1                                                     </td><td>0                                                     </td><td>0                                                     </td><td>0                                                     </td><td>1                                                     </td><td>0                                                     </td></tr>\n",
       "\t<tr><td>Copycat (1995)                                        </td><td>1995                                                  </td><td>http://us.imdb.com/M/title-exact?Copycat%20(1995)     </td><td>0                                                     </td><td>0                                                     </td><td>0                                                     </td><td>0                                                     </td><td>0                                                     </td><td>0                                                     </td><td>1                                                     </td></tr>\n",
       "</tbody>\n",
       "</table>\n"
      ],
      "text/latex": [
       "\\begin{tabular}{r|llllllllll}\n",
       " title & year & url & unknown & Action & Adventure & Animation & Children's & Comedy & Crime\\\\\n",
       "\\hline\n",
       "\t Toy Story (1995)                                           & 1995                                                       & http://us.imdb.com/M/title-exact?Toy\\%20Story\\%20(1995)  & 0                                                          & 0                                                          & 0                                                          & 1                                                          & 1                                                          & 1                                                          & 0                                                         \\\\\n",
       "\t GoldenEye (1995)                                         & 1995                                                     & http://us.imdb.com/M/title-exact?GoldenEye\\%20(1995)    & 0                                                        & 1                                                        & 1                                                        & 0                                                        & 0                                                        & 0                                                        & 0                                                       \\\\\n",
       "\t Four Rooms (1995)                                          & 1995                                                       & http://us.imdb.com/M/title-exact?Four\\%20Rooms\\%20(1995) & 0                                                          & 0                                                          & 0                                                          & 0                                                          & 0                                                          & 0                                                          & 0                                                         \\\\\n",
       "\t Get Shorty (1995)                                          & 1995                                                       & http://us.imdb.com/M/title-exact?Get\\%20Shorty\\%20(1995) & 0                                                          & 1                                                          & 0                                                          & 0                                                          & 0                                                          & 1                                                          & 0                                                         \\\\\n",
       "\t Copycat (1995)                                           & 1995                                                     & http://us.imdb.com/M/title-exact?Copycat\\%20(1995)      & 0                                                        & 0                                                        & 0                                                        & 0                                                        & 0                                                        & 0                                                        & 1                                                       \\\\\n",
       "\\end{tabular}\n"
      ],
      "text/plain": [
       "  title             year url                                                   \n",
       "1 Toy Story (1995)  1995 http://us.imdb.com/M/title-exact?Toy%20Story%20(1995) \n",
       "2 GoldenEye (1995)  1995 http://us.imdb.com/M/title-exact?GoldenEye%20(1995)   \n",
       "3 Four Rooms (1995) 1995 http://us.imdb.com/M/title-exact?Four%20Rooms%20(1995)\n",
       "4 Get Shorty (1995) 1995 http://us.imdb.com/M/title-exact?Get%20Shorty%20(1995)\n",
       "5 Copycat (1995)    1995 http://us.imdb.com/M/title-exact?Copycat%20(1995)     \n",
       "  unknown Action Adventure Animation Children's Comedy Crime\n",
       "1 0       0      0         1         1          1      0    \n",
       "2 0       1      1         0         0          0      0    \n",
       "3 0       0      0         0         0          0      0    \n",
       "4 0       1      0         0         0          1      0    \n",
       "5 0       0      0         0         0          0      1    "
      ]
     },
     "metadata": {},
     "output_type": "display_data"
    }
   ],
   "source": [
    "MovieLenseMeta[1:5,1:10] #metadata about movies (feature vectors) are also available - we don't use them here!"
   ]
  },
  {
   "cell_type": "markdown",
   "metadata": {},
   "source": [
    "We can visualise a part of the ratings matrix. There is lots of missing data!"
   ]
  },
  {
   "cell_type": "code",
   "execution_count": 5,
   "metadata": {},
   "outputs": [
    {
     "data": {},
     "metadata": {},
     "output_type": "display_data"
    },
    {
     "data": {
      "image/png": "[encoded data removed]",
      "text/plain": [
       "plot without title"
      ]
     },
     "metadata": {},
     "output_type": "display_data"
    }
   ],
   "source": [
    "image(MovieLense[sample(nusers,25),sample(nmovies,25)])"
   ]
  },
  {
   "cell_type": "markdown",
   "metadata": {},
   "source": [
    "We will next run user-based collaborative filtering (UBCF), item-based collaborative filtering (IBCF) and alternating least squares (ALS) on this dataset. Let us first prepare the dataset. Users are split into a training set ($90\\%$) and a test set ($10\\%$). Thus, we will train our models on the ratings of 848 users. On the test set of 95 users, 12 ratings per user will be given to the recommender to make predictions and the other ratings are held out for computing prediction accuracy."
   ]
  },
  {
   "cell_type": "code",
   "execution_count": 6,
   "metadata": {},
   "outputs": [
    {
     "data": {
      "text/plain": [
       "Evaluation scheme with 12 items given\n",
       "Method: ‘split’ with 1 run(s).\n",
       "Training set proportion: 0.900\n",
       "Good ratings: NA\n",
       "Data set: 943 x 1664 rating matrix of class ‘realRatingMatrix’ with 99392 ratings."
      ]
     },
     "metadata": {},
     "output_type": "display_data"
    },
    {
     "data": {
      "text/plain": [
       "848 x 1664 rating matrix of class ‘realRatingMatrix’ with 88557 ratings."
      ]
     },
     "metadata": {},
     "output_type": "display_data"
    },
    {
     "data": {
      "text/plain": [
       "95 x 1664 rating matrix of class ‘realRatingMatrix’ with 1140 ratings."
      ]
     },
     "metadata": {},
     "output_type": "display_data"
    },
    {
     "data": {
      "text/plain": [
       "95 x 1664 rating matrix of class ‘realRatingMatrix’ with 9695 ratings."
      ]
     },
     "metadata": {},
     "output_type": "display_data"
    }
   ],
   "source": [
    "## create 90/10 split (known/unknown)\n",
    "evlt <- evaluationScheme(MovieLense, method=\"split\", train=0.9,\n",
    "                         given=12)\n",
    "evlt\n",
    "tr <- getData(evlt, \"train\"); tr\n",
    "tst_known <- getData(evlt, \"known\"); tst_known\n",
    "tst_unknown <- getData(evlt, \"unknown\"); tst_unknown"
   ]
  },
  {
   "cell_type": "markdown",
   "metadata": {},
   "source": [
    "Create a UBCF recommender, using Pearson similarity and 50 nearest neighbours. "
   ]
  },
  {
   "cell_type": "code",
   "execution_count": 7,
   "metadata": {},
   "outputs": [
    {
     "data": {
      "text/plain": [
       "95 x 1664 rating matrix of class ‘realRatingMatrix’ with 156940 ratings."
      ]
     },
     "metadata": {},
     "output_type": "display_data"
    },
    {
     "data": {
      "text/html": [
       "<table>\n",
       "<tbody>\n",
       "\t<tr><th scope=row>RMSE</th><td>1.0914818</td></tr>\n",
       "\t<tr><th scope=row>MSE</th><td>1.1913325</td></tr>\n",
       "\t<tr><th scope=row>MAE</th><td>0.8711042</td></tr>\n",
       "</tbody>\n",
       "</table>\n"
      ],
      "text/latex": [
       "\\begin{tabular}{r|l}\n",
       "\tRMSE & 1.0914818\\\\\n",
       "\tMSE & 1.1913325\\\\\n",
       "\tMAE & 0.8711042\\\\\n",
       "\\end{tabular}\n"
      ],
      "text/markdown": [
       "1. 1.09148177801425\n",
       "2. 1.19133247173715\n",
       "3. 0.871104173103724\n",
       "\n",
       "\n"
      ],
      "text/plain": [
       "     [,1]     \n",
       "RMSE 1.0914818\n",
       "MSE  1.1913325\n",
       "MAE  0.8711042"
      ]
     },
     "metadata": {},
     "output_type": "display_data"
    }
   ],
   "source": [
    "## create a user-based CF recommender using training data\n",
    "rcmnd_ub <- Recommender(tr, \"UBCF\",\n",
    "                        param=list(method=\"pearson\",nn=50))\n",
    "\n",
    "## create predictions for the test users using known ratings\n",
    "pred_ub <- predict(rcmnd_ub, tst_known, type=\"ratings\"); pred_ub\n",
    "\n",
    "## evaluate recommendations on \"unknown\" ratings\n",
    "acc_ub <- calcPredictionAccuracy(pred_ub, tst_unknown);\n",
    "as(acc_ub,\"matrix\")"
   ]
  },
  {
   "cell_type": "code",
   "execution_count": 8,
   "metadata": {},
   "outputs": [
    {
     "data": {
      "text/html": [
       "<table>\n",
       "<thead><tr><th></th><th scope=col>Toy Story (1995)</th><th scope=col>GoldenEye (1995)</th><th scope=col>Four Rooms (1995)</th><th scope=col>Get Shorty (1995)</th><th scope=col>Copycat (1995)</th></tr></thead>\n",
       "<tbody>\n",
       "\t<tr><th scope=row>5</th><td> 4</td><td> 3</td><td>NA</td><td>NA</td><td>NA</td></tr>\n",
       "\t<tr><th scope=row>6</th><td> 4</td><td>NA</td><td>NA</td><td>NA</td><td>NA</td></tr>\n",
       "\t<tr><th scope=row>7</th><td>NA</td><td>NA</td><td>NA</td><td> 5</td><td>NA</td></tr>\n",
       "\t<tr><th scope=row>13</th><td> 3</td><td> 3</td><td>NA</td><td> 5</td><td> 1</td></tr>\n",
       "\t<tr><th scope=row>35</th><td>NA</td><td>NA</td><td>NA</td><td>NA</td><td>NA</td></tr>\n",
       "\t<tr><th scope=row>44</th><td> 4</td><td>NA</td><td>NA</td><td>NA</td><td> 4</td></tr>\n",
       "\t<tr><th scope=row>54</th><td> 4</td><td>NA</td><td>NA</td><td>NA</td><td>NA</td></tr>\n",
       "\t<tr><th scope=row>65</th><td> 3</td><td>NA</td><td>NA</td><td>NA</td><td>NA</td></tr>\n",
       "</tbody>\n",
       "</table>\n"
      ],
      "text/latex": [
       "\\begin{tabular}{r|lllll}\n",
       "  & Toy Story (1995) & GoldenEye (1995) & Four Rooms (1995) & Get Shorty (1995) & Copycat (1995)\\\\\n",
       "\\hline\n",
       "\t5 &  4 &  3 & NA & NA & NA\\\\\n",
       "\t6 &  4 & NA & NA & NA & NA\\\\\n",
       "\t7 & NA & NA & NA &  5 & NA\\\\\n",
       "\t13 &  3 &  3 & NA &  5 &  1\\\\\n",
       "\t35 & NA & NA & NA & NA & NA\\\\\n",
       "\t44 &  4 & NA & NA & NA &  4\\\\\n",
       "\t54 &  4 & NA & NA & NA & NA\\\\\n",
       "\t65 &  3 & NA & NA & NA & NA\\\\\n",
       "\\end{tabular}\n"
      ],
      "text/markdown": [
       "1. 4\n",
       "2. 4\n",
       "3. NA\n",
       "4. 3\n",
       "5. NA\n",
       "6. 4\n",
       "7. 4\n",
       "8. 3\n",
       "9. 3\n",
       "10. NA\n",
       "11. NA\n",
       "12. 3\n",
       "13. NA\n",
       "14. NA\n",
       "15. NA\n",
       "16. NA\n",
       "17. NA\n",
       "18. NA\n",
       "19. NA\n",
       "20. NA\n",
       "21. NA\n",
       "22. NA\n",
       "23. NA\n",
       "24. NA\n",
       "25. NA\n",
       "26. NA\n",
       "27. 5\n",
       "28. 5\n",
       "29. NA\n",
       "30. NA\n",
       "31. NA\n",
       "32. NA\n",
       "33. NA\n",
       "34. NA\n",
       "35. NA\n",
       "36. 1\n",
       "37. NA\n",
       "38. 4\n",
       "39. NA\n",
       "40. NA\n",
       "\n",
       "\n"
      ],
      "text/plain": [
       "   Toy Story (1995) GoldenEye (1995) Four Rooms (1995) Get Shorty (1995)\n",
       "5   4                3               NA                NA               \n",
       "6   4               NA               NA                NA               \n",
       "7  NA               NA               NA                 5               \n",
       "13  3                3               NA                 5               \n",
       "35 NA               NA               NA                NA               \n",
       "44  4               NA               NA                NA               \n",
       "54  4               NA               NA                NA               \n",
       "65  3               NA               NA                NA               \n",
       "   Copycat (1995)\n",
       "5  NA            \n",
       "6  NA            \n",
       "7  NA            \n",
       "13  1            \n",
       "35 NA            \n",
       "44  4            \n",
       "54 NA            \n",
       "65 NA            "
      ]
     },
     "metadata": {},
     "output_type": "display_data"
    },
    {
     "data": {
      "text/html": [
       "<table>\n",
       "<thead><tr><th></th><th scope=col>Toy Story (1995)</th><th scope=col>GoldenEye (1995)</th><th scope=col>Four Rooms (1995)</th><th scope=col>Get Shorty (1995)</th><th scope=col>Copycat (1995)</th></tr></thead>\n",
       "<tbody>\n",
       "\t<tr><th scope=row>5</th><td>2.478321</td><td>2.357157</td><td>2.336074</td><td>2.428473</td><td>2.368132</td></tr>\n",
       "\t<tr><th scope=row>6</th><td>3.458488</td><td>3.374429</td><td>3.510538</td><td>3.429548</td><td>3.370482</td></tr>\n",
       "\t<tr><th scope=row>7</th><td>3.859838</td><td>3.703389</td><td>3.658794</td><td>3.728707</td><td>3.717585</td></tr>\n",
       "\t<tr><th scope=row>13</th><td>2.707438</td><td>2.584175</td><td>2.479966</td><td>2.549201</td><td>2.564746</td></tr>\n",
       "\t<tr><th scope=row>35</th><td>2.838027</td><td>2.750989</td><td>2.745954</td><td>2.755377</td><td>2.722942</td></tr>\n",
       "\t<tr><th scope=row>44</th><td>3.475823</td><td>3.387616</td><td>3.239503</td><td>3.332724</td><td>3.312472</td></tr>\n",
       "\t<tr><th scope=row>54</th><td>4.007823</td><td>3.810384</td><td>3.815898</td><td>3.863014</td><td>3.807695</td></tr>\n",
       "\t<tr><th scope=row>65</th><td>3.811664</td><td>3.641846</td><td>3.575492</td><td>3.651777</td><td>3.683020</td></tr>\n",
       "</tbody>\n",
       "</table>\n"
      ],
      "text/latex": [
       "\\begin{tabular}{r|lllll}\n",
       "  & Toy Story (1995) & GoldenEye (1995) & Four Rooms (1995) & Get Shorty (1995) & Copycat (1995)\\\\\n",
       "\\hline\n",
       "\t5 & 2.478321 & 2.357157 & 2.336074 & 2.428473 & 2.368132\\\\\n",
       "\t6 & 3.458488 & 3.374429 & 3.510538 & 3.429548 & 3.370482\\\\\n",
       "\t7 & 3.859838 & 3.703389 & 3.658794 & 3.728707 & 3.717585\\\\\n",
       "\t13 & 2.707438 & 2.584175 & 2.479966 & 2.549201 & 2.564746\\\\\n",
       "\t35 & 2.838027 & 2.750989 & 2.745954 & 2.755377 & 2.722942\\\\\n",
       "\t44 & 3.475823 & 3.387616 & 3.239503 & 3.332724 & 3.312472\\\\\n",
       "\t54 & 4.007823 & 3.810384 & 3.815898 & 3.863014 & 3.807695\\\\\n",
       "\t65 & 3.811664 & 3.641846 & 3.575492 & 3.651777 & 3.683020\\\\\n",
       "\\end{tabular}\n"
      ],
      "text/markdown": [
       "1. 2.4783212734142\n",
       "2. 3.45848782979558\n",
       "3. 3.85983836543683\n",
       "4. 2.70743788499186\n",
       "5. 2.83802708977108\n",
       "6. 3.47582324288164\n",
       "7. 4.00782294054929\n",
       "8. 3.81166438448772\n",
       "9. 2.35715702600034\n",
       "10. 3.37442870643056\n",
       "11. 3.70338871618972\n",
       "12. 2.58417509882385\n",
       "13. 2.75098921652312\n",
       "14. 3.38761593881076\n",
       "15. 3.81038409847356\n",
       "16. 3.64184641041554\n",
       "17. 2.33607354369403\n",
       "18. 3.51053825584847\n",
       "19. 3.65879374387208\n",
       "20. 2.47996550422415\n",
       "21. 2.74595406548076\n",
       "22. 3.23950262351902\n",
       "23. 3.81589814844269\n",
       "24. 3.57549202803257\n",
       "25. 2.4284726877311\n",
       "26. 3.42954754792015\n",
       "27. 3.72870660076816\n",
       "28. 2.54920073040395\n",
       "29. 2.75537737061299\n",
       "30. 3.33272442627577\n",
       "31. 3.86301365456674\n",
       "32. 3.65177695648019\n",
       "33. 2.36813185924013\n",
       "34. 3.370482154003\n",
       "35. 3.71758450635809\n",
       "36. 2.56474551987803\n",
       "37. 2.72294221863129\n",
       "38. 3.3124720707517\n",
       "39. 3.8076948329858\n",
       "40. 3.68302010826899\n",
       "\n",
       "\n"
      ],
      "text/plain": [
       "   Toy Story (1995) GoldenEye (1995) Four Rooms (1995) Get Shorty (1995)\n",
       "5  2.478321         2.357157         2.336074          2.428473         \n",
       "6  3.458488         3.374429         3.510538          3.429548         \n",
       "7  3.859838         3.703389         3.658794          3.728707         \n",
       "13 2.707438         2.584175         2.479966          2.549201         \n",
       "35 2.838027         2.750989         2.745954          2.755377         \n",
       "44 3.475823         3.387616         3.239503          3.332724         \n",
       "54 4.007823         3.810384         3.815898          3.863014         \n",
       "65 3.811664         3.641846         3.575492          3.651777         \n",
       "   Copycat (1995)\n",
       "5  2.368132      \n",
       "6  3.370482      \n",
       "7  3.717585      \n",
       "13 2.564746      \n",
       "35 2.722942      \n",
       "44 3.312472      \n",
       "54 3.807695      \n",
       "65 3.683020      "
      ]
     },
     "metadata": {},
     "output_type": "display_data"
    }
   ],
   "source": [
    "#compare predictions with true \"unknown\" ratings\n",
    "as(tst_unknown, \"matrix\")[1:8,1:5]\n",
    "as(pred_ub, \"matrix\")[1:8,1:5]"
   ]
  },
  {
   "cell_type": "markdown",
   "metadata": {},
   "source": [
    "Now, let us repeat the same thing with IBCF. On this dataset, it does not work as well."
   ]
  },
  {
   "cell_type": "code",
   "execution_count": 9,
   "metadata": {},
   "outputs": [
    {
     "data": {
      "text/html": [
       "<table>\n",
       "<thead><tr><th></th><th scope=col>RMSE</th><th scope=col>MSE</th><th scope=col>MAE</th></tr></thead>\n",
       "<tbody>\n",
       "\t<tr><th scope=row>UBCF</th><td>1.091482 </td><td>1.191332 </td><td>0.8711042</td></tr>\n",
       "\t<tr><th scope=row>IBCF</th><td>1.683765 </td><td>2.835066 </td><td>1.2843314</td></tr>\n",
       "</tbody>\n",
       "</table>\n"
      ],
      "text/latex": [
       "\\begin{tabular}{r|lll}\n",
       "  & RMSE & MSE & MAE\\\\\n",
       "\\hline\n",
       "\tUBCF & 1.091482  & 1.191332  & 0.8711042\\\\\n",
       "\tIBCF & 1.683765  & 2.835066  & 1.2843314\\\\\n",
       "\\end{tabular}\n"
      ],
      "text/markdown": [
       "1. 1.09148177801425\n",
       "2. 1.68376546140195\n",
       "3. 1.19133247173715\n",
       "4. 2.83506612901011\n",
       "5. 0.871104173103724\n",
       "6. 1.28433140154139\n",
       "\n",
       "\n"
      ],
      "text/plain": [
       "     RMSE     MSE      MAE      \n",
       "UBCF 1.091482 1.191332 0.8711042\n",
       "IBCF 1.683765 2.835066 1.2843314"
      ]
     },
     "metadata": {},
     "output_type": "display_data"
    }
   ],
   "source": [
    "## repeat with the item-based approach\n",
    "rcmnd_ib <- Recommender(tr, \"IBCF\",\n",
    "                        param=list(method=\"pearson\",k=50))\n",
    "pred_ib <- predict(rcmnd_ib, tst_known, type=\"ratings\")\n",
    "acc_ib <- calcPredictionAccuracy(pred_ib, tst_unknown) \n",
    "acc <- rbind(UBCF = acc_ub, IBCF = acc_ib); acc"
   ]
  },
  {
   "cell_type": "markdown",
   "metadata": {},
   "source": [
    "We next try the alternating least squares approach (`ALS`). We will use latent attributes of dimension $k=20$. "
   ]
  },
  {
   "cell_type": "code",
   "execution_count": 10,
   "metadata": {},
   "outputs": [
    {
     "data": {
      "text/html": [
       "<table>\n",
       "<thead><tr><th></th><th scope=col>RMSE</th><th scope=col>MSE</th><th scope=col>MAE</th></tr></thead>\n",
       "<tbody>\n",
       "\t<tr><th scope=row>UBCF</th><td>1.091482 </td><td>1.191332 </td><td>0.8711042</td></tr>\n",
       "\t<tr><th scope=row>IBCF</th><td>1.683765 </td><td>2.835066 </td><td>1.2843314</td></tr>\n",
       "\t<tr><th scope=row>ALS</th><td>1.022098 </td><td>1.044684 </td><td>0.8146836</td></tr>\n",
       "</tbody>\n",
       "</table>\n"
      ],
      "text/latex": [
       "\\begin{tabular}{r|lll}\n",
       "  & RMSE & MSE & MAE\\\\\n",
       "\\hline\n",
       "\tUBCF & 1.091482  & 1.191332  & 0.8711042\\\\\n",
       "\tIBCF & 1.683765  & 2.835066  & 1.2843314\\\\\n",
       "\tALS & 1.022098  & 1.044684  & 0.8146836\\\\\n",
       "\\end{tabular}\n"
      ],
      "text/markdown": [
       "1. 1.09148177801425\n",
       "2. 1.68376546140195\n",
       "3. 1.02209769383002\n",
       "4. 1.19133247173715\n",
       "5. 2.83506612901011\n",
       "6. 1.04468369573264\n",
       "7. 0.871104173103724\n",
       "8. 1.28433140154139\n",
       "9. 0.814683619911017\n",
       "\n",
       "\n"
      ],
      "text/plain": [
       "     RMSE     MSE      MAE      \n",
       "UBCF 1.091482 1.191332 0.8711042\n",
       "IBCF 1.683765 2.835066 1.2843314\n",
       "ALS  1.022098 1.044684 0.8146836"
      ]
     },
     "metadata": {},
     "output_type": "display_data"
    }
   ],
   "source": [
    "rcmnd_als <- Recommender(tr, \"ALS\",\n",
    "                         param=list(n_factors=20))\n",
    "pred_als <- predict(rcmnd_als, tst_known, type=\"ratings\")\n",
    "acc_als <- calcPredictionAccuracy(pred_als, tst_unknown) \n",
    "acc <- rbind(UBCF = acc_ub, IBCF = acc_ib, ALS = acc_als); acc"
   ]
  },
  {
   "cell_type": "markdown",
   "metadata": {},
   "source": [
    "The results of ALS look favourable to those of memory-based methods. However, each method has a number of tuning parameters (type of similarity, number of neighbours, number of latent factors, regularization parameters) so further comparisons are needed. There is a number of other methods -- below we query the registry of implemented methods."
   ]
  },
  {
   "cell_type": "code",
   "execution_count": 12,
   "metadata": {},
   "outputs": [
    {
     "data": {
      "text/plain": [
       "$ALS_realRatingMatrix\n",
       "Recommender method: ALS for realRatingMatrix\n",
       "Description: Recommender for explicit ratings based on latent factors, calculated by alternating least squares algorithm.\n",
       "Reference: Yunhong Zhou, Dennis Wilkinson, Robert Schreiber, Rong Pan (2008). Large-Scale Parallel Collaborative Filtering for the Netflix Prize, 4th Int'l Conf. Algorithmic Aspects in Information and Management, LNCS 5034.\n",
       "Parameters:\n",
       "  normalize lambda n_factors n_iterations min_item_nr seed\n",
       "1      NULL    0.1        10           10           1 NULL\n",
       "\n",
       "$ALS_implicit_realRatingMatrix\n",
       "Recommender method: ALS_implicit for realRatingMatrix\n",
       "Description: Recommender for implicit data based on latent factors, calculated by alternating least squares algorithm.\n",
       "Reference: Yifan Hu, Yehuda Koren, Chris Volinsky (2008). Collaborative Filtering for Implicit Feedback Datasets, ICDM '08 Proceedings of the 2008 Eighth IEEE International Conference on Data Mining, pages 263-272.\n",
       "Parameters:\n",
       "  lambda alpha n_factors n_iterations min_item_nr seed\n",
       "1    0.1    10        10           10           1 NULL\n",
       "\n",
       "$IBCF_realRatingMatrix\n",
       "Recommender method: IBCF for realRatingMatrix\n",
       "Description: Recommender based on item-based collaborative filtering.\n",
       "Reference: NA\n",
       "Parameters:\n",
       "   k   method normalize normalize_sim_matrix alpha na_as_zero\n",
       "1 30 \"Cosine\"  \"center\"                FALSE   0.5      FALSE\n",
       "\n",
       "$POPULAR_realRatingMatrix\n",
       "Recommender method: POPULAR for realRatingMatrix\n",
       "Description: Recommender based on item popularity.\n",
       "Reference: NA\n",
       "Parameters:\n",
       "  normalize    aggregationRatings aggregationPopularity\n",
       "1  \"center\" new(\"standardGeneric\" new(\"standardGeneric\"\n",
       "\n",
       "$RANDOM_realRatingMatrix\n",
       "Recommender method: RANDOM for realRatingMatrix\n",
       "Description: Produce random recommendations (real ratings).\n",
       "Reference: NA\n",
       "Parameters: None\n",
       "\n",
       "$RERECOMMEND_realRatingMatrix\n",
       "Recommender method: RERECOMMEND for realRatingMatrix\n",
       "Description: Re-recommends highly rated items (real ratings).\n",
       "Reference: NA\n",
       "Parameters:\n",
       "  randomize minRating\n",
       "1         1        NA\n",
       "\n",
       "$SVD_realRatingMatrix\n",
       "Recommender method: SVD for realRatingMatrix\n",
       "Description: Recommender based on SVD approximation with column-mean imputation.\n",
       "Reference: NA\n",
       "Parameters:\n",
       "   k maxiter normalize\n",
       "1 10     100  \"center\"\n",
       "\n",
       "$SVDF_realRatingMatrix\n",
       "Recommender method: SVDF for realRatingMatrix\n",
       "Description: Recommender based on Funk SVD with gradient descend.\n",
       "Reference: NA\n",
       "Parameters:\n",
       "   k gamma lambda min_epochs max_epochs min_improvement normalize verbose\n",
       "1 10 0.015  0.001         50        200           1e-06  \"center\"   FALSE\n",
       "\n",
       "$UBCF_realRatingMatrix\n",
       "Recommender method: UBCF for realRatingMatrix\n",
       "Description: Recommender based on user-based collaborative filtering.\n",
       "Reference: NA\n",
       "Parameters:\n",
       "    method nn sample normalize\n",
       "1 \"cosine\" 25  FALSE  \"center\"\n"
      ]
     },
     "metadata": {},
     "output_type": "display_data"
    }
   ],
   "source": [
    "recommenderRegistry$get_entries(dataType = \"realRatingMatrix\")"
   ]
  }
 ],
 "metadata": {
  "kernelspec": {
   "display_name": "R",
   "language": "R",
   "name": "ir"
  },
  "language_info": {
   "codemirror_mode": "r",
   "file_extension": ".r",
   "mimetype": "text/x-r-source",
   "name": "R",
   "pygments_lexer": "r",
   "version": "3.4.3"
  },
  "latex_envs": {
   "bibliofile": "biblio.bib",
   "cite_by": "apalike",
   "current_citInitial": 1,
   "eqLabelWithNumbers": true,
   "eqNumInitial": 0
  }
 },
 "nbformat": 4,
 "nbformat_minor": 1
}
